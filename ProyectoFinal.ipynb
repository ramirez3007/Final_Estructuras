{
  "nbformat": 4,
  "nbformat_minor": 0,
  "metadata": {
    "colab": {
      "provenance": [],
      "authorship_tag": "ABX9TyPxDz4L2dM9nmAESoaxjoAR",
      "include_colab_link": true
    },
    "kernelspec": {
      "name": "python3",
      "display_name": "Python 3"
    },
    "language_info": {
      "name": "python"
    }
  },
  "cells": [
    {
      "cell_type": "markdown",
      "metadata": {
        "id": "view-in-github",
        "colab_type": "text"
      },
      "source": [
        "<a href=\"https://colab.research.google.com/github/ramirez3007/Final_Estructuras/blob/main/ProyectoFinal.ipynb\" target=\"_parent\"><img src=\"https://colab.research.google.com/assets/colab-badge.svg\" alt=\"Open In Colab\"/></a>"
      ]
    },
    {
      "cell_type": "markdown",
      "source": [
        "# PROYECTO FINAL"
      ],
      "metadata": {
        "id": "Jjpnackj1Hky"
      }
    },
    {
      "cell_type": "markdown",
      "source": [
        "##CONEXION A DRIVE"
      ],
      "metadata": {
        "id": "AePJjBDc1Ed0"
      }
    },
    {
      "cell_type": "code",
      "source": [
        "from google.colab import drive\n",
        "\n",
        "drive.mount('/content/drive/')"
      ],
      "metadata": {
        "colab": {
          "base_uri": "https://localhost:8080/"
        },
        "id": "1ntMoJrxya_h",
        "outputId": "46780907-ae85-4efd-9f7c-4b61c2657258"
      },
      "execution_count": 13,
      "outputs": [
        {
          "output_type": "stream",
          "name": "stdout",
          "text": [
            "Drive already mounted at /content/drive/; to attempt to forcibly remount, call drive.mount(\"/content/drive/\", force_remount=True).\n"
          ]
        }
      ]
    },
    {
      "cell_type": "code",
      "source": [
        "%cd /content/drive/My Drive/"
      ],
      "metadata": {
        "colab": {
          "base_uri": "https://localhost:8080/"
        },
        "id": "3OKIVhoRysgl",
        "outputId": "7a6e227b-469d-4ae7-9983-637bcbdfabf7"
      },
      "execution_count": null,
      "outputs": [
        {
          "output_type": "stream",
          "name": "stdout",
          "text": [
            "/content/drive/My Drive\n"
          ]
        }
      ]
    },
    {
      "cell_type": "code",
      "source": [
        "%ls"
      ],
      "metadata": {
        "colab": {
          "base_uri": "https://localhost:8080/"
        },
        "id": "db5ZyjfOy6Ne",
        "outputId": "9e56220d-fa80-470f-930f-509ce59b22a0"
      },
      "execution_count": null,
      "outputs": [
        {
          "output_type": "stream",
          "name": "stdout",
          "text": [
            "'CIBER SEGURIDAD.pptx'  \u001b[0m\u001b[01;34m'Colab Notebooks'\u001b[0m/  'recibo (1).pdf'\n",
            " \u001b[01;34mClassroom\u001b[0m/              entrada.txt         recibo.pdf\n"
          ]
        }
      ]
    },
    {
      "cell_type": "markdown",
      "source": [
        "#CODIFICAR ARCHIVO .txt"
      ],
      "metadata": {
        "id": "Vsuoi_HNBwuN"
      }
    },
    {
      "cell_type": "code",
      "source": [
        "import heapq\n",
        "from collections import defaultdict\n",
        "\n",
        "# Paso 1: Calcular las frecuencias de aparición de los símbolos en los datos de entrada\n",
        "def calcular_frecuencias(datos):\n",
        "    frecuencias = defaultdict(int)\n",
        "    for simbolo in datos:\n",
        "        frecuencias[simbolo] += 1\n",
        "    return frecuencias\n",
        "\n",
        "# Paso 2: Construir el árbol de Huffman\n",
        "def construir_arbol(frecuencias):\n",
        "    cola_prioridad = [[frecuencia, [simbolo, \"\"]] for simbolo, frecuencia in frecuencias.items()]\n",
        "    heapq.heapify(cola_prioridad)\n",
        "    while len(cola_prioridad) > 1:\n",
        "        lo = heapq.heappop(cola_prioridad)\n",
        "        hi = heapq.heappop(cola_prioridad)\n",
        "        for par in lo[1:]:\n",
        "            par[1] = '0' + par[1]\n",
        "        for par in hi[1:]:\n",
        "            par[1] = '1' + par[1]\n",
        "        heapq.heappush(cola_prioridad, [lo[0] + hi[0]] + lo[1:] + hi[1:])\n",
        "    return cola_prioridad[0]\n",
        "\n",
        "# Paso 3: Generar el diccionario de códigos de Huffman\n",
        "def generar_diccionario(arbol_huffman):\n",
        "    diccionario = {}\n",
        "    for simbolo, codigo in arbol_huffman[1:]:\n",
        "        diccionario[simbolo] = codigo\n",
        "    return diccionario\n",
        "\n",
        "# Paso 4: Comprimir los datos utilizando los códigos de Huffman\n",
        "def comprimir(datos, diccionario):\n",
        "    datos_comprimidos = \"\"\n",
        "    for simbolo in datos:\n",
        "        datos_comprimidos += diccionario[simbolo]\n",
        "    return datos_comprimidos\n",
        "\n",
        "# Función para escribir datos en un archivo\n",
        "def escribir_archivo(nombre_archivo, contenido):\n",
        "    with open(nombre_archivo, \"w\") as archivo:\n",
        "        archivo.write(contenido)\n",
        "\n",
        "# Leer datos desde un archivo de texto\n",
        "def leer_archivo(nombre_archivo):\n",
        "    with open(nombre_archivo, \"r\") as archivo:\n",
        "        datos = archivo.read()\n",
        "    return datos\n",
        "\n",
        "# Ejemplo de uso\n",
        "nombre_archivo_entrada = \"entrada.txt\"\n",
        "nombre_archivo_salida = \"salida.txt\"\n",
        "\n",
        "# Leer datos de entrada desde el archivo\n",
        "datos = leer_archivo(nombre_archivo_entrada)\n",
        "\n",
        "# Paso 1: Calcular las frecuencias de aparición de los símbolos en los datos de entrada\n",
        "frecuencias = calcular_frecuencias(datos)\n",
        "\n",
        "# Paso 2: Construir el árbol de Huffman\n",
        "arbol_huffman = construir_arbol(frecuencias)\n",
        "\n",
        "# Paso 3: Generar el diccionario de códigos de Huffman\n",
        "diccionario = generar_diccionario(arbol_huffman)\n",
        "\n",
        "# Paso 4: Comprimir los datos utilizando los códigos de Huffman\n",
        "datos_comprimidos = comprimir(datos, diccionario)\n",
        "\n",
        "# Escribir datos comprimidos en el archivo de salida\n",
        "escribir_archivo(nombre_archivo_salida, datos_comprimidos)\n",
        "\n",
        "# Obtener la representación del árbol de Huffman\n",
        "representacion_arbol = str(arbol_huffman)\n",
        "\n",
        "# Escribir la representación del árbol en el archivo de salida\n",
        "escribir_archivo(\"arbol.txt\", representacion_arbol)\n",
        "print (\"La cadena de datos comprimidos es:\")\n",
        "print (datos_comprimidos)\n",
        "print(\"\")\n",
        "print(\"Y la representacion del arbol es:\")\n",
        "print (representacion_arbol)\n"
      ],
      "metadata": {
        "id": "FYktXRDLxwKO",
        "colab": {
          "base_uri": "https://localhost:8080/"
        },
        "outputId": "225bd777-c47b-4597-b4bc-75110977cbe3"
      },
      "execution_count": 21,
      "outputs": [
        {
          "output_type": "stream",
          "name": "stdout",
          "text": [
            "La cadena de datos comprimidos es:\n",
            "1010010110111111001001100100001011011111011100101101111111010010011010000011110011101000001110101101111101111101011000000111101101101000000110100011100111100111011100101101111100100100110100010110110111100111001011111110001011011110010110000110101101001101110100000111101110101001001101011011111101010010011010111100000010100110010111011111010110000001111101011000111111000111000010111010110111001000001001011111101001000001000010111100100110010000101101111110100111001101011111010110001100000100000111001100010111011001110100110111101000010100010101000010100000010101110010001000111100111001000011000101111010001111001110000010111100111000000111011000110101011101011111111010110001111110011111010101100001011111011100101111010011101101111000111011000110111001011111101001001101111010000101000101001010111001010101111001101101110001011010101010010001100000001110001100001000010001011111110101100011110010000111010111111010000010001011111001000011110000100000101001110101101110111001011111111011101111100110101010011110000110111110101111110010010110011101111110000011101101100000101001111000011011111011001111011101111101001101110101101111110010011001000010110111111010100100110101111001001100001011111111010110001101100110100100111111000000100101111110100100000111100110110111100100110010000101101111100100010101010010011010100101001100001010111001000100011110011111010100110100110100010111111101011000110111000001000111010101000011101000011100111101111111011101111110010010110010110000110001011110100001101011101100010101111101011000110111001000001110110101000101111111010110110001011111011100000011010101110110111010110010101111101011000110111100110110111001101000001000101110011001110110110100001011101110010111110101011100001010100011110000111010110111011001010111010011010000011010111110010000011101100001111101011000000101100001001011\n",
            "\n",
            "Y la representacion del arbol es:\n",
            "[424, ['s', '0000'], ['i', '0001'], ['p', '00100'], [',', '001010'], ['b', '0010110'], ['y', '0010111'], ['r', '0011'], ['e', '010'], ['n', '0110'], ['d', '01110'], ['m', '01111'], ['t', '1000'], ['h', '100100'], ['ñ', '10010100'], ['5', '100101010'], ['7', '100101011'], ['.', '1001011'], ['u', '10011'], ['1', '1010000'], ['9', '10100010'], ['g', '10100011'], ['E', '1010010'], ['f', '1010011'], ['q', '1010100'], ['v', '10101010'], ['z', '10101011'], ['á', '10101100'], ['é', '101011010'], ['í', '101011011'], ['ó', '1010111'], ['a', '1011'], ['o', '1100'], ['c', '11010'], ['l', '11011'], [' ', '111']]\n"
          ]
        }
      ]
    },
    {
      "cell_type": "markdown",
      "source": [
        "##DECODIFICAR EL ARCHIVO CODIFICADO"
      ],
      "metadata": {
        "id": "3rmRPkeG2MAi"
      }
    },
    {
      "cell_type": "code",
      "source": [
        "# Función para leer el archivo codificado\n",
        "def leer_archivo_codificado(nombre_archivo):\n",
        "    with open(nombre_archivo, \"r\") as archivo:\n",
        "        datos = archivo.read()\n",
        "    return datos\n",
        "\n",
        "# Paso 5: Decodificar los datos utilizando el diccionario de códigos de Huffman\n",
        "def decodificar(datos_codificados, diccionario):\n",
        "    diccionario_inverso = {codigo: simbolo for simbolo, codigo in diccionario.items()}\n",
        "    datos_decodificados = \"\"\n",
        "    codigo_actual = \"\"\n",
        "    for bit in datos_codificados:\n",
        "        codigo_actual += bit\n",
        "        if codigo_actual in diccionario_inverso:\n",
        "            simbolo = diccionario_inverso[codigo_actual]\n",
        "            datos_decodificados += simbolo\n",
        "            codigo_actual = \"\"\n",
        "    return datos_decodificados\n",
        "\n",
        "# Función para escribir el texto decodificado en un archivo\n",
        "def escribir_archivo_decodificado(nombre_archivo, contenido):\n",
        "    with open(nombre_archivo, \"w\") as archivo:\n",
        "        archivo.write(contenido)\n",
        "\n",
        "# Nombre del archivo codificado y archivo de salida para el texto decodificado\n",
        "nombre_archivo_codificado = \"salida.txt\"\n",
        "nombre_archivo_decodificado = \"decodificado.txt\"\n",
        "\n",
        "# Leer los datos codificados desde el archivo\n",
        "datos_codificados = leer_archivo_codificado(nombre_archivo_codificado)\n",
        "\n",
        "# Paso 5: Decodificar los datos utilizando el diccionario de códigos de Huffman\n",
        "datos_decodificados = decodificar(datos_codificados, diccionario)\n",
        "\n",
        "# Escribir el texto decodificado en un archivo\n",
        "escribir_archivo_decodificado(nombre_archivo_decodificado, datos_decodificados)\n"
      ],
      "metadata": {
        "id": "Wvw1K0uO2UGv"
      },
      "execution_count": 8,
      "outputs": []
    },
    {
      "cell_type": "code",
      "source": [
        "print (\"Volviendo al txt original por medio de la decodificación:\")\n",
        "print (\"\")\n",
        "print (datos_decodificados)"
      ],
      "metadata": {
        "colab": {
          "base_uri": "https://localhost:8080/"
        },
        "id": "0RmKQsFW41wL",
        "outputId": "ddd6aa74-e61b-47a4-8216-3d5cdc98fc18"
      },
      "execution_count": 25,
      "outputs": [
        {
          "output_type": "stream",
          "name": "stdout",
          "text": [
            "Volviendo al txt original por medio de la decodificación:\n",
            "\n",
            "El hotel del centro es el más antiguo del pueblo y también es aquel que tiene más comodidades. Este hotel fue construido en 1911, pero primero se utilizó como casa de familia. En 1975 un inversionista compró esta propiedad y la reformó para transformarla en el hotel que hoy conocemos. Es un hotel pequeño, pero cuenta con servicio a la habitación, con pileta climatizada, con un restaurante de categoría, entre otras cosas.\n"
          ]
        }
      ]
    }
  ]
}
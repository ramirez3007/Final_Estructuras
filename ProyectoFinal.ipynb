{
  "nbformat": 4,
  "nbformat_minor": 0,
  "metadata": {
    "colab": {
      "provenance": [],
      "authorship_tag": "ABX9TyM9N1eFw8CjXA24nc7Ree9w",
      "include_colab_link": true
    },
    "kernelspec": {
      "name": "python3",
      "display_name": "Python 3"
    },
    "language_info": {
      "name": "python"
    }
  },
  "cells": [
    {
      "cell_type": "markdown",
      "metadata": {
        "id": "view-in-github",
        "colab_type": "text"
      },
      "source": [
        "<a href=\"https://colab.research.google.com/github/ramirez3007/Final_Estructuras/blob/main/ProyectoFinal.ipynb\" target=\"_parent\"><img src=\"https://colab.research.google.com/assets/colab-badge.svg\" alt=\"Open In Colab\"/></a>"
      ]
    },
    {
      "cell_type": "markdown",
      "source": [
        "# PROYECTO FINAL"
      ],
      "metadata": {
        "id": "Jjpnackj1Hky"
      }
    },
    {
      "cell_type": "markdown",
      "source": [
        "##CONEXION A DRIVE"
      ],
      "metadata": {
        "id": "AePJjBDc1Ed0"
      }
    },
    {
      "cell_type": "code",
      "source": [
        "from google.colab import drive\n",
        "\n",
        "drive.mount('/content/drive/')"
      ],
      "metadata": {
        "colab": {
          "base_uri": "https://localhost:8080/"
        },
        "id": "1ntMoJrxya_h",
        "outputId": "0b8302dd-4178-4bab-a3ae-b999abb0a8cc"
      },
      "execution_count": 39,
      "outputs": [
        {
          "output_type": "stream",
          "name": "stdout",
          "text": [
            "Drive already mounted at /content/drive/; to attempt to forcibly remount, call drive.mount(\"/content/drive/\", force_remount=True).\n"
          ]
        }
      ]
    },
    {
      "cell_type": "code",
      "source": [
        "%cd /content/drive/My Drive/"
      ],
      "metadata": {
        "colab": {
          "base_uri": "https://localhost:8080/"
        },
        "id": "3OKIVhoRysgl",
        "outputId": "dcb7e455-c9b9-4747-944e-2de0d8aa3377"
      },
      "execution_count": 40,
      "outputs": [
        {
          "output_type": "stream",
          "name": "stdout",
          "text": [
            "/content/drive/My Drive\n"
          ]
        }
      ]
    },
    {
      "cell_type": "code",
      "source": [
        "%ls"
      ],
      "metadata": {
        "colab": {
          "base_uri": "https://localhost:8080/"
        },
        "id": "db5ZyjfOy6Ne",
        "outputId": "1aa82bde-3ab3-4ee0-be70-1f57e721dc37"
      },
      "execution_count": 41,
      "outputs": [
        {
          "output_type": "stream",
          "name": "stdout",
          "text": [
            " arbol.txt              \u001b[0m\u001b[01;34m'Colab Notebooks'\u001b[0m/   entrada.txt\n",
            "'CIBER SEGURIDAD.pptx'   decodificado.txt   'recibo (1).pdf'\n",
            " \u001b[01;34mClassroom\u001b[0m/              entrada.gdoc        recibo.pdf\n"
          ]
        }
      ]
    },
    {
      "cell_type": "markdown",
      "source": [
        "#CODIFICAR ARCHIVO .txt"
      ],
      "metadata": {
        "id": "Vsuoi_HNBwuN"
      }
    },
    {
      "cell_type": "code",
      "source": [
        "import heapq\n",
        "from collections import defaultdict\n",
        "\n",
        "# Paso 1: Calcular las frecuencias de aparición de los símbolos en los datos de entrada\n",
        "def calcular_frecuencias(datos):\n",
        "    frecuencias = defaultdict(int)\n",
        "    for simbolo in datos:\n",
        "        frecuencias[simbolo] += 1\n",
        "    return frecuencias\n",
        "\n",
        "# Paso 2: Construir el árbol de Huffman\n",
        "def construir_arbol(frecuencias):\n",
        "    cola_prioridad = [[frecuencia, [simbolo, \"\"]] for simbolo, frecuencia in frecuencias.items()]\n",
        "    heapq.heapify(cola_prioridad)\n",
        "    while len(cola_prioridad) > 1:\n",
        "        lo = heapq.heappop(cola_prioridad)\n",
        "        hi = heapq.heappop(cola_prioridad)\n",
        "        for par in lo[1:]:\n",
        "            par[1] = '0' + par[1]\n",
        "        for par in hi[1:]:\n",
        "            par[1] = '1' + par[1]\n",
        "        heapq.heappush(cola_prioridad, [lo[0] + hi[0]] + lo[1:] + hi[1:])\n",
        "    return cola_prioridad[0]\n",
        "\n",
        "# Paso 3: Generar el diccionario de códigos de Huffman\n",
        "def generar_diccionario(arbol_huffman):\n",
        "    diccionario = {}\n",
        "    for simbolo, codigo in arbol_huffman[1:]:\n",
        "        diccionario[simbolo] = codigo\n",
        "    return diccionario\n",
        "\n",
        "# Paso 4: Comprimir los datos utilizando los códigos de Huffman\n",
        "def comprimir(datos, diccionario):\n",
        "    datos_comprimidos = \"\"\n",
        "    for simbolo in datos:\n",
        "        datos_comprimidos += diccionario[simbolo]\n",
        "    return datos_comprimidos\n",
        "\n",
        "# Función para escribir datos en un archivo\n",
        "def escribir_archivo(nombre_archivo, contenido):\n",
        "    with open(nombre_archivo, \"w\") as archivo:\n",
        "        archivo.write(contenido)\n",
        "\n",
        "# Leer datos desde un archivo de texto\n",
        "def leer_archivo(nombre_archivo):\n",
        "    with open(nombre_archivo, \"r\") as archivo:\n",
        "        datos = archivo.read()\n",
        "    return datos\n",
        "\n",
        "# Ejemplo de uso\n",
        "nombre_archivo_entrada = \"entrada.txt\"\n",
        "nombre_archivo_salida = \"salida.txt\"\n",
        "\n",
        "# Leer datos de entrada desde el archivo\n",
        "datos = leer_archivo(nombre_archivo_entrada)\n",
        "\n",
        "# Paso 1: Calcular las frecuencias de aparición de los símbolos en los datos de entrada\n",
        "frecuencias = calcular_frecuencias(datos)\n",
        "\n",
        "# Paso 2: Construir el árbol de Huffman\n",
        "arbol_huffman = construir_arbol(frecuencias)\n",
        "\n",
        "# Paso 3: Generar el diccionario de códigos de Huffman\n",
        "diccionario = generar_diccionario(arbol_huffman)\n",
        "\n",
        "# Paso 4: Comprimir los datos utilizando los códigos de Huffman\n",
        "datos_comprimidos = comprimir(datos, diccionario)\n",
        "\n",
        "# Escribir datos comprimidos en el archivo de salida\n",
        "escribir_archivo(nombre_archivo_salida, datos_comprimidos)\n",
        "\n",
        "# Obtener la representación del árbol de Huffman\n",
        "representacion_arbol = str(arbol_huffman)\n",
        "\n",
        "# Escribir la representación del árbol en el archivo de salida\n",
        "escribir_archivo(\"arbol.txt\", representacion_arbol)\n",
        "\n",
        "print (\"¡El texto se codifico correctamente!\")"
      ],
      "metadata": {
        "id": "FYktXRDLxwKO",
        "colab": {
          "base_uri": "https://localhost:8080/"
        },
        "outputId": "f5593a93-4f63-44a2-840f-a04a88d8c1ed"
      },
      "execution_count": 45,
      "outputs": [
        {
          "output_type": "stream",
          "name": "stdout",
          "text": [
            "¡El texto se codifico correctamente!\n"
          ]
        }
      ]
    },
    {
      "cell_type": "code",
      "source": [
        "import os\n",
        "\n",
        "def calcular_tasa_compresion(archivo_entrada, archivo_salida):\n",
        "    peso_entrada = os.path.getsize(archivo_entrada)\n",
        "    peso_salida = os.path.getsize(archivo_salida)\n",
        "\n",
        "    tasa_compresion = (peso_salida / peso_entrada) * 100\n",
        "\n",
        "    return tasa_compresion\n",
        "\n",
        "# Ejemplo de uso\n",
        "archivo_entrada = \"entrada.txt\"\n",
        "archivo_salida = \"salida.txt\"\n",
        "\n",
        "tasa_compresion = calcular_tasa_compresion(archivo_entrada, archivo_salida)\n",
        "\n",
        "print(\"La tasa de compresión obtenida es:\", tasa_compresion, \"%\")\n"
      ],
      "metadata": {
        "colab": {
          "base_uri": "https://localhost:8080/"
        },
        "id": "vpZGJODymAcg",
        "outputId": "8b0238d3-d8dd-47ff-ac90-b26988432ec7"
      },
      "execution_count": 51,
      "outputs": [
        {
          "output_type": "stream",
          "name": "stdout",
          "text": [
            "La tasa de compresión obtenida es: 424.9422632794457 %\n"
          ]
        }
      ]
    },
    {
      "cell_type": "markdown",
      "source": [
        "##DECODIFICAR EL ARCHIVO CODIFICADO"
      ],
      "metadata": {
        "id": "3rmRPkeG2MAi"
      }
    },
    {
      "cell_type": "code",
      "source": [
        "# Función para leer el archivo codificado\n",
        "def leer_archivo_codificado(nombre_archivo):\n",
        "    with open(nombre_archivo, \"r\") as archivo:\n",
        "        datos = archivo.read()\n",
        "    return datos\n",
        "\n",
        "# Paso 5: Decodificar los datos utilizando el diccionario de códigos de Huffman\n",
        "def decodificar(datos_codificados, diccionario):\n",
        "    diccionario_inverso = {codigo: simbolo for simbolo, codigo in diccionario.items()}\n",
        "    datos_decodificados = \"\"\n",
        "    codigo_actual = \"\"\n",
        "    for bit in datos_codificados:\n",
        "        codigo_actual += bit\n",
        "        if codigo_actual in diccionario_inverso:\n",
        "            simbolo = diccionario_inverso[codigo_actual]\n",
        "            datos_decodificados += simbolo\n",
        "            codigo_actual = \"\"\n",
        "    return datos_decodificados\n",
        "\n",
        "# Función para escribir el texto decodificado en un archivo\n",
        "def escribir_archivo_decodificado(nombre_archivo, contenido):\n",
        "    with open(nombre_archivo, \"w\") as archivo:\n",
        "        archivo.write(contenido)\n",
        "\n",
        "# Nombre del archivo codificado y archivo de salida para el texto decodificado\n",
        "nombre_archivo_codificado = \"salida.txt\"\n",
        "nombre_archivo_decodificado = \"decodificado.txt\"\n",
        "\n",
        "# Leer los datos codificados desde el archivo\n",
        "datos_codificados = leer_archivo_codificado(nombre_archivo_codificado)\n",
        "\n",
        "# Paso 5: Decodificar los datos utilizando el diccionario de códigos de Huffman\n",
        "datos_decodificados = decodificar(datos_codificados, diccionario)\n",
        "\n",
        "# Escribir el texto decodificado en un archivo\n",
        "escribir_archivo_decodificado(nombre_archivo_decodificado, datos_decodificados)\n",
        "\n",
        "\n"
      ],
      "metadata": {
        "id": "Wvw1K0uO2UGv"
      },
      "execution_count": 52,
      "outputs": []
    },
    {
      "cell_type": "code",
      "source": [
        "print (\"Volviendo al txt original por medio de la decodificación:\")\n",
        "print (\"\")\n",
        "print (datos_decodificados)"
      ],
      "metadata": {
        "colab": {
          "base_uri": "https://localhost:8080/"
        },
        "id": "0RmKQsFW41wL",
        "outputId": "600a1026-432d-4ece-ebcd-442453ca24ca"
      },
      "execution_count": 53,
      "outputs": [
        {
          "output_type": "stream",
          "name": "stdout",
          "text": [
            "Volviendo al txt original por medio de la decodificación:\n",
            "\n",
            "El hotel del centro es el más antiguo del pueblo y también es aquel que tiene más comodidades. Este hotel fue construido en 1911, pero primero se utilizó como casa de familia. En 1975 un inversionista compró esta propiedad y la reformó para transformarla en el hotel que hoy conocemos. Es un hotel pequeño, pero cuenta con servicio a la habitación, con pileta climatizada, con un restaurante de categoría, entre otras cosas.\n"
          ]
        }
      ]
    }
  ]
}